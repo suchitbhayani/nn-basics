{
 "cells": [
  {
   "cell_type": "code",
   "execution_count": 1,
   "id": "18bddd46",
   "metadata": {},
   "outputs": [],
   "source": [
    "import torch\n",
    "import torch.nn as nn\n",
    "import torch.nn.functional as F\n",
    "from torch.optim import SGD\n",
    "\n",
    "import matplotlib.pyplot as plt\n",
    "import seaborn as sns"
   ]
  },
  {
   "cell_type": "markdown",
   "id": "739ae018",
   "metadata": {},
   "source": [
    "https://www.youtube.com/watch?v=FHdlXe1bSe4&list=PLblh5JKOoLUIxGDQs4LFFD--41Vzf-ME1&index=25\n",
    "\n",
    "create a basic neural network structure\n",
    "\n",
    "below based on this"
   ]
  },
  {
   "cell_type": "code",
   "execution_count": 2,
   "id": "00a8ee59",
   "metadata": {},
   "outputs": [],
   "source": [
    "class BasicNN(nn.Module):\n",
    "    def __init__(self):\n",
    "        super().__init__()\n",
    "        \n",
    "        self.w00 = nn.Parameter(torch.tensor(1.7), requires_grad=False)\n",
    "        self.b00 = nn.Parameter(torch.tensor(-0.85), requires_grad=False)\n",
    "        self.w01 = nn.Parameter(torch.tensor(-40.8), requires_grad=False)\n",
    "        \n",
    "        self.w10 = nn.Parameter(torch.tensor(12.6), requires_grad=False)\n",
    "        self.b10 = nn.Parameter(torch.tensor(0.0), requires_grad=False)\n",
    "        self.w11 = nn.Parameter(torch.tensor(2.7), requires_grad=False)\n",
    "        \n",
    "        self.final_bias = nn.Parameter(torch.tensor(-16.), requires_grad=False)\n",
    "    \n",
    "    def forward(self, input):\n",
    "        input_to_top_relu = input * self.w00 + self.b00\n",
    "        top_relu_output = F.relu(input_to_top_relu)\n",
    "        scaled_top_relu_output = top_relu_output * self.w01\n",
    "        \n",
    "        input_to_bot_relu = input * self.w10 + self.b10\n",
    "        bot_relu_output = F.relu(input_to_bot_relu)\n",
    "        scaled_bot_relu_output = bot_relu_output * self.w11\n",
    "        \n",
    "        \n",
    "        input_to_final_relu = scaled_top_relu_output + scaled_bot_relu_output + self.final_bias\n",
    "        \n",
    "        output = F.relu(input_to_final_relu)\n",
    "        \n",
    "        return output"
   ]
  },
  {
   "cell_type": "code",
   "execution_count": 3,
   "id": "2d3c876d",
   "metadata": {},
   "outputs": [],
   "source": [
    "input_values = torch.linspace(start=0, end=1, steps=21)\n",
    "model = BasicNN()\n",
    "output_values = model(input_values)"
   ]
  },
  {
   "cell_type": "code",
   "execution_count": 4,
   "id": "1ac471d1",
   "metadata": {},
   "outputs": [
    {
     "data": {
      "text/plain": [
       "<Axes: >"
      ]
     },
     "execution_count": 4,
     "metadata": {},
     "output_type": "execute_result"
    },
    {
     "data": {
      "image/png": "[encoded data removed]",
      "text/plain": [
       "<Figure size 640x480 with 1 Axes>"
      ]
     },
     "metadata": {},
     "output_type": "display_data"
    }
   ],
   "source": [
    "sns.set(style='whitegrid')\n",
    "sns.lineplot(x=input_values, y=output_values, color='green', linewidth=2.5)"
   ]
  },
  {
   "cell_type": "markdown",
   "id": "a7c4a65e",
   "metadata": {},
   "source": [
    "below we will do some basic backpropagation implementation using pytorch's SGD"
   ]
  },
  {
   "cell_type": "code",
   "execution_count": 5,
   "id": "4d9a8184",
   "metadata": {},
   "outputs": [],
   "source": [
    "class BasicNN_train(nn.Module):\n",
    "    def __init__(self):\n",
    "        super().__init__()\n",
    "        \n",
    "        self.w00 = nn.Parameter(torch.tensor(1.7), requires_grad=False)\n",
    "        self.b00 = nn.Parameter(torch.tensor(-0.85), requires_grad=False)\n",
    "        self.w01 = nn.Parameter(torch.tensor(-40.8), requires_grad=False)\n",
    "        \n",
    "        self.w10 = nn.Parameter(torch.tensor(12.6), requires_grad=False)\n",
    "        self.b10 = nn.Parameter(torch.tensor(0.0), requires_grad=False)\n",
    "        self.w11 = nn.Parameter(torch.tensor(2.7), requires_grad=False)\n",
    "        \n",
    "        self.final_bias = nn.Parameter(torch.tensor(0.0), requires_grad=True)\n",
    "    \n",
    "    def forward(self, input):\n",
    "        input_to_top_relu = input * self.w00 + self.b00\n",
    "        top_relu_output = F.relu(input_to_top_relu)\n",
    "        scaled_top_relu_output = top_relu_output * self.w01\n",
    "        \n",
    "        input_to_bot_relu = input * self.w10 + self.b10\n",
    "        bot_relu_output = F.relu(input_to_bot_relu)\n",
    "        scaled_bot_relu_output = bot_relu_output * self.w11\n",
    "        \n",
    "        \n",
    "        input_to_final_relu = scaled_top_relu_output + scaled_bot_relu_output + self.final_bias\n",
    "        \n",
    "        output = F.relu(input_to_final_relu)\n",
    "        \n",
    "        return output"
   ]
  },
  {
   "cell_type": "code",
   "execution_count": 6,
   "id": "e456f6aa",
   "metadata": {},
   "outputs": [],
   "source": [
    "inputs = torch.tensor([0., 0.5, 1.])\n",
    "labels = torch.tensor([0., 1., 0.])\n",
    "model = BasicNN_train()"
   ]
  },
  {
   "cell_type": "code",
   "execution_count": 7,
   "id": "4558dcde",
   "metadata": {},
   "outputs": [
    {
     "name": "stdout",
     "output_type": "stream",
     "text": [
      "Final bias, before optimization:tensor(0.)\n",
      "\n"
     ]
    }
   ],
   "source": [
    "optimizer = SGD(model.parameters(), lr=0.1)\n",
    "\n",
    "print('Final bias, before optimization:' + str(model.final_bias.data) + '\\n')"
   ]
  },
  {
   "cell_type": "code",
   "execution_count": 8,
   "id": "01586f90",
   "metadata": {},
   "outputs": [
    {
     "name": "stdout",
     "output_type": "stream",
     "text": [
      "Step: 0 Final Bias: tensor(-3.2020)\n",
      "Step: 1 Final Bias: tensor(-5.7636)\n",
      "Step: 2 Final Bias: tensor(-7.8129)\n",
      "Step: 3 Final Bias: tensor(-9.4523)\n",
      "Step: 4 Final Bias: tensor(-10.7638)\n",
      "Step: 5 Final Bias: tensor(-11.8131)\n",
      "Step: 6 Final Bias: tensor(-12.6525)\n",
      "Step: 7 Final Bias: tensor(-13.3240)\n",
      "Step: 8 Final Bias: tensor(-13.8612)\n",
      "Step: 9 Final Bias: tensor(-14.2909)\n",
      "Step: 10 Final Bias: tensor(-14.6348)\n",
      "Step: 11 Final Bias: tensor(-14.9098)\n",
      "Step: 12 Final Bias: tensor(-15.1298)\n",
      "Step: 13 Final Bias: tensor(-15.3059)\n",
      "Step: 14 Final Bias: tensor(-15.4467)\n",
      "Step: 15 Final Bias: tensor(-15.5594)\n",
      "Step: 16 Final Bias: tensor(-15.6495)\n",
      "Step: 17 Final Bias: tensor(-15.7216)\n",
      "Step: 18 Final Bias: tensor(-15.7793)\n",
      "Step: 19 Final Bias: tensor(-15.8254)\n",
      "Step: 20 Final Bias: tensor(-15.8623)\n",
      "Step: 21 Final Bias: tensor(-15.8919)\n",
      "Step: 22 Final Bias: tensor(-15.9155)\n",
      "Step: 23 Final Bias: tensor(-15.9344)\n",
      "Step: 24 Final Bias: tensor(-15.9495)\n",
      "Step: 25 Final Bias: tensor(-15.9616)\n",
      "Step: 26 Final Bias: tensor(-15.9713)\n",
      "Step: 27 Final Bias: tensor(-15.9790)\n",
      "Step: 28 Final Bias: tensor(-15.9852)\n",
      "Step: 29 Final Bias: tensor(-15.9902)\n",
      "Step: 30 Final Bias: tensor(-15.9941)\n",
      "Step: 31 Final Bias: tensor(-15.9973)\n",
      "Step: 32 Final Bias: tensor(-15.9999)\n",
      "Step: 33 Final Bias: tensor(-16.0019)\n",
      "Num steps: 34\n"
     ]
    }
   ],
   "source": [
    "for epoch in range(100):\n",
    "    total_loss = 0\n",
    "    \n",
    "    for iteration in range(len(inputs)):\n",
    "        \n",
    "        input_i = inputs[iteration]\n",
    "        label_i = labels[iteration]\n",
    "        \n",
    "        output_i = model(input_i)\n",
    "        \n",
    "        loss = (output_i - label_i) ** 2\n",
    "        \n",
    "        loss.backward()\n",
    "        \n",
    "        total_loss += float(loss)\n",
    "    \n",
    "    if (total_loss < 0.0001):\n",
    "        print('Num steps: ' + str(epoch))\n",
    "        break\n",
    "    \n",
    "    optimizer.step()\n",
    "    optimizer.zero_grad()\n",
    "    \n",
    "    print('Step: ' + str(epoch) + ' Final Bias: ' + str(model.final_bias.data))"
   ]
  },
  {
   "cell_type": "code",
   "execution_count": 9,
   "id": "069af206",
   "metadata": {},
   "outputs": [
    {
     "data": {
      "text/plain": [
       "<Axes: >"
      ]
     },
     "execution_count": 9,
     "metadata": {},
     "output_type": "execute_result"
    },
    {
     "data": {
      "image/png": "[encoded data removed]",
      "text/plain": [
       "<Figure size 640x480 with 1 Axes>"
      ]
     },
     "metadata": {},
     "output_type": "display_data"
    }
   ],
   "source": [
    "output_values = model(input_values)\n",
    "sns.set(style='whitegrid')\n",
    "sns.lineplot(x=input_values, y=output_values.detach(), color='green', linewidth=2.5)"
   ]
  },
  {
   "cell_type": "code",
   "execution_count": null,
   "id": "227be48a",
   "metadata": {},
   "outputs": [],
   "source": []
  }
 ],
 "metadata": {
  "kernelspec": {
   "display_name": "Python 3 (ipykernel)",
   "language": "python",
   "name": "python3"
  },
  "language_info": {
   "codemirror_mode": {
    "name": "ipython",
    "version": 3
   },
   "file_extension": ".py",
   "mimetype": "text/x-python",
   "name": "python",
   "nbconvert_exporter": "python",
   "pygments_lexer": "ipython3",
   "version": "3.11.5"
  }
 },
 "nbformat": 4,
 "nbformat_minor": 5
}
