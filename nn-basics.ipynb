{
 "cells": [
  {
   "cell_type": "code",
   "execution_count": 2,
   "id": "4504cdba",
   "metadata": {},
   "outputs": [],
   "source": [
    "import torch as nn"
   ]
  },
  {
   "cell_type": "code",
   "execution_count": null,
   "id": "61524db3",
   "metadata": {},
   "outputs": [],
   "source": []
  }
 ],
 "metadata": {
  "kernelspec": {
   "display_name": "Python 3 (ipykernel)",
   "language": "python",
   "name": "python3"
  },
  "language_info": {
   "codemirror_mode": {
    "name": "ipython",
    "version": 3
   },
   "file_extension": ".py",
   "mimetype": "text/x-python",
   "name": "python",
   "nbconvert_exporter": "python",
   "pygments_lexer": "ipython3",
   "version": "3.11.5"
  }
 },
 "nbformat": 4,
 "nbformat_minor": 5
}
