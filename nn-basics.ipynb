{
 "cells": [
  {
   "cell_type": "code",
   "execution_count": 1,
   "id": "18bddd46",
   "metadata": {},
   "outputs": [],
   "source": [
    "import torch\n",
    "import torch.nn as nn\n",
    "import torch.nn.functional as F\n",
    "from torch.optim import SGD\n",
    "\n",
    "import matplotlib.pyplot as plt\n",
    "import seaborn as sns\n",
    "\n",
    "import pytorch_lightning as L\n",
    "from torch.utils.data import TensorDataset, DataLoader"
   ]
  },
  {
   "cell_type": "markdown",
   "id": "739ae018",
   "metadata": {},
   "source": [
    "https://www.youtube.com/watch?v=FHdlXe1bSe4&list=PLblh5JKOoLUIxGDQs4LFFD--41Vzf-ME1&index=25\n",
    "\n",
    "create a basic neural network structure\n",
    "\n",
    "below based on this"
   ]
  },
  {
   "cell_type": "code",
   "execution_count": 3,
   "id": "00a8ee59",
   "metadata": {},
   "outputs": [],
   "source": [
    "class BasicNN(nn.Module):\n",
    "    def __init__(self):\n",
    "        super().__init__()\n",
    "        \n",
    "        self.w00 = nn.Parameter(torch.tensor(1.7), requires_grad=False)\n",
    "        self.b00 = nn.Parameter(torch.tensor(-0.85), requires_grad=False)\n",
    "        self.w01 = nn.Parameter(torch.tensor(-40.8), requires_grad=False)\n",
    "        \n",
    "        self.w10 = nn.Parameter(torch.tensor(12.6), requires_grad=False)\n",
    "        self.b10 = nn.Parameter(torch.tensor(0.0), requires_grad=False)\n",
    "        self.w11 = nn.Parameter(torch.tensor(2.7), requires_grad=False)\n",
    "        \n",
    "        self.final_bias = nn.Parameter(torch.tensor(-16.), requires_grad=False)\n",
    "    \n",
    "    def forward(self, input):\n",
    "        input_to_top_relu = input * self.w00 + self.b00\n",
    "        top_relu_output = F.relu(input_to_top_relu)\n",
    "        scaled_top_relu_output = top_relu_output * self.w01\n",
    "        \n",
    "        input_to_bot_relu = input * self.w10 + self.b10\n",
    "        bot_relu_output = F.relu(input_to_bot_relu)\n",
    "        scaled_bot_relu_output = bot_relu_output * self.w11\n",
    "        \n",
    "        \n",
    "        input_to_final_relu = scaled_top_relu_output + scaled_bot_relu_output + self.final_bias\n",
    "        \n",
    "        output = F.relu(input_to_final_relu)\n",
    "        \n",
    "        return output"
   ]
  },
  {
   "cell_type": "code",
   "execution_count": 4,
   "id": "2d3c876d",
   "metadata": {},
   "outputs": [],
   "source": [
    "input_doses = torch.linspace(start=0, end=1, steps=21)\n",
    "model = BasicNN()\n",
    "output_values = model(input_doses)"
   ]
  },
  {
   "cell_type": "code",
   "execution_count": 5,
   "id": "1ac471d1",
   "metadata": {},
   "outputs": [
    {
     "data": {
      "text/plain": [
       "<Axes: xlabel='None', ylabel='None'>"
      ]
     },
     "execution_count": 5,
     "metadata": {},
     "output_type": "execute_result"
    },
    {
     "data": {
      "image/png": "[encoded data removed]",
      "text/plain": [
       "<Figure size 640x480 with 1 Axes>"
      ]
     },
     "metadata": {},
     "output_type": "display_data"
    }
   ],
   "source": [
    "sns.set(style='whitegrid')\n",
    "sns.lineplot(x=input_doses, y=output_values, color='green', linewidth=2.5)"
   ]
  },
  {
   "cell_type": "markdown",
   "id": "a7c4a65e",
   "metadata": {},
   "source": [
    "below we will do some basic backpropagation implementation using pytorch's SGD"
   ]
  },
  {
   "cell_type": "code",
   "execution_count": 7,
   "id": "4d9a8184",
   "metadata": {},
   "outputs": [],
   "source": [
    "class BasicNN_train(nn.Module):\n",
    "    def __init__(self):\n",
    "        super().__init__()\n",
    "        \n",
    "        self.w00 = nn.Parameter(torch.tensor(1.7), requires_grad=False)\n",
    "        self.b00 = nn.Parameter(torch.tensor(-0.85), requires_grad=False)\n",
    "        self.w01 = nn.Parameter(torch.tensor(-40.8), requires_grad=False)\n",
    "        \n",
    "        self.w10 = nn.Parameter(torch.tensor(12.6), requires_grad=False)\n",
    "        self.b10 = nn.Parameter(torch.tensor(0.0), requires_grad=False)\n",
    "        self.w11 = nn.Parameter(torch.tensor(2.7), requires_grad=False)\n",
    "        \n",
    "        self.final_bias = nn.Parameter(torch.tensor(0.0), requires_grad=True)\n",
    "    \n",
    "    def forward(self, input):\n",
    "        input_to_top_relu = input * self.w00 + self.b00\n",
    "        top_relu_output = F.relu(input_to_top_relu)\n",
    "        scaled_top_relu_output = top_relu_output * self.w01\n",
    "        \n",
    "        input_to_bot_relu = input * self.w10 + self.b10\n",
    "        bot_relu_output = F.relu(input_to_bot_relu)\n",
    "        scaled_bot_relu_output = bot_relu_output * self.w11\n",
    "        \n",
    "        \n",
    "        input_to_final_relu = scaled_top_relu_output + scaled_bot_relu_output + self.final_bias\n",
    "        \n",
    "        output = F.relu(input_to_final_relu)\n",
    "        \n",
    "        return output"
   ]
  },
  {
   "cell_type": "code",
   "execution_count": 8,
   "id": "e456f6aa",
   "metadata": {},
   "outputs": [],
   "source": [
    "inputs = torch.tensor([0., 0.5, 1.])\n",
    "labels = torch.tensor([0., 1., 0.])\n",
    "model = BasicNN_train()"
   ]
  },
  {
   "cell_type": "code",
   "execution_count": 9,
   "id": "4558dcde",
   "metadata": {},
   "outputs": [
    {
     "name": "stdout",
     "output_type": "stream",
     "text": [
      "Final bias, before optimization:tensor(0.)\n",
      "\n"
     ]
    }
   ],
   "source": [
    "optimizer = SGD(model.parameters(), lr=0.1)\n",
    "\n",
    "print('Final bias, before optimization:' + str(model.final_bias.data) + '\\n')"
   ]
  },
  {
   "cell_type": "code",
   "execution_count": 10,
   "id": "01586f90",
   "metadata": {},
   "outputs": [
    {
     "name": "stdout",
     "output_type": "stream",
     "text": [
      "Step: 0 Final Bias: tensor(-3.2020)\n",
      "Step: 1 Final Bias: tensor(-5.7636)\n",
      "Step: 2 Final Bias: tensor(-7.8129)\n",
      "Step: 3 Final Bias: tensor(-9.4523)\n",
      "Step: 4 Final Bias: tensor(-10.7638)\n",
      "Step: 5 Final Bias: tensor(-11.8131)\n",
      "Step: 6 Final Bias: tensor(-12.6525)\n",
      "Step: 7 Final Bias: tensor(-13.3240)\n",
      "Step: 8 Final Bias: tensor(-13.8612)\n",
      "Step: 9 Final Bias: tensor(-14.2909)\n",
      "Step: 10 Final Bias: tensor(-14.6348)\n",
      "Step: 11 Final Bias: tensor(-14.9098)\n",
      "Step: 12 Final Bias: tensor(-15.1298)\n",
      "Step: 13 Final Bias: tensor(-15.3059)\n",
      "Step: 14 Final Bias: tensor(-15.4467)\n",
      "Step: 15 Final Bias: tensor(-15.5594)\n",
      "Step: 16 Final Bias: tensor(-15.6495)\n",
      "Step: 17 Final Bias: tensor(-15.7216)\n",
      "Step: 18 Final Bias: tensor(-15.7793)\n",
      "Step: 19 Final Bias: tensor(-15.8254)\n",
      "Step: 20 Final Bias: tensor(-15.8623)\n",
      "Step: 21 Final Bias: tensor(-15.8919)\n",
      "Step: 22 Final Bias: tensor(-15.9155)\n",
      "Step: 23 Final Bias: tensor(-15.9344)\n",
      "Step: 24 Final Bias: tensor(-15.9495)\n",
      "Step: 25 Final Bias: tensor(-15.9616)\n",
      "Step: 26 Final Bias: tensor(-15.9713)\n",
      "Step: 27 Final Bias: tensor(-15.9790)\n",
      "Step: 28 Final Bias: tensor(-15.9852)\n",
      "Step: 29 Final Bias: tensor(-15.9902)\n",
      "Step: 30 Final Bias: tensor(-15.9941)\n",
      "Step: 31 Final Bias: tensor(-15.9973)\n",
      "Step: 32 Final Bias: tensor(-15.9999)\n",
      "Step: 33 Final Bias: tensor(-16.0019)\n",
      "Num steps: 34\n"
     ]
    }
   ],
   "source": [
    "for epoch in range(100):\n",
    "    total_loss = 0\n",
    "    \n",
    "    for iteration in range(len(inputs)):\n",
    "        \n",
    "        input_i = inputs[iteration]\n",
    "        label_i = labels[iteration]\n",
    "        \n",
    "        output_i = model(input_i)\n",
    "        \n",
    "        loss = (output_i - label_i) ** 2\n",
    "        \n",
    "        loss.backward()\n",
    "        \n",
    "        total_loss += float(loss)\n",
    "    \n",
    "    if (total_loss < 0.0001):\n",
    "        print('Num steps: ' + str(epoch))\n",
    "        break\n",
    "    \n",
    "    optimizer.step()\n",
    "    optimizer.zero_grad()\n",
    "    \n",
    "    print('Step: ' + str(epoch) + ' Final Bias: ' + str(model.final_bias.data))"
   ]
  },
  {
   "cell_type": "code",
   "execution_count": 11,
   "id": "069af206",
   "metadata": {},
   "outputs": [
    {
     "data": {
      "text/plain": [
       "<Axes: xlabel='None', ylabel='None'>"
      ]
     },
     "execution_count": 11,
     "metadata": {},
     "output_type": "execute_result"
    },
    {
     "data": {
      "image/png": "[encoded data removed]",
      "text/plain": [
       "<Figure size 640x480 with 1 Axes>"
      ]
     },
     "metadata": {},
     "output_type": "display_data"
    }
   ],
   "source": [
    "output_values = model(input_doses)\n",
    "sns.set(style='whitegrid')\n",
    "sns.lineplot(x=input_doses, y=output_values.detach(), color='green', linewidth=2.5)"
   ]
  },
  {
   "cell_type": "markdown",
   "id": "fca81b64-1b9a-4b99-8180-a8b3d2c4ee3b",
   "metadata": {},
   "source": [
    "below is based on this\n",
    "\n",
    "https://www.youtube.com/watch?v=khMzi6xPbuM&list=PLblh5JKOoLUIxGDQs4LFFD--41Vzf-ME1&index=26\n",
    "\n",
    "we will use lightning now"
   ]
  },
  {
   "cell_type": "code",
   "execution_count": 13,
   "id": "6c867d0c-b2b3-46dd-8827-572d6b632cee",
   "metadata": {},
   "outputs": [],
   "source": [
    "class BasicLightning(L.LightningModule):\n",
    "    def __init__(self):\n",
    "        super().__init__()\n",
    "        \n",
    "        self.w00 = nn.Parameter(torch.tensor(1.7), requires_grad=False)\n",
    "        self.b00 = nn.Parameter(torch.tensor(-0.85), requires_grad=False)\n",
    "        self.w01 = nn.Parameter(torch.tensor(-40.8), requires_grad=False)\n",
    "        \n",
    "        self.w10 = nn.Parameter(torch.tensor(12.6), requires_grad=False)\n",
    "        self.b10 = nn.Parameter(torch.tensor(0.0), requires_grad=False)\n",
    "        self.w11 = nn.Parameter(torch.tensor(2.7), requires_grad=False)\n",
    "        \n",
    "        self.final_bias = nn.Parameter(torch.tensor(-16.), requires_grad=False)\n",
    "    \n",
    "    def forward(self, input):\n",
    "        input_to_top_relu = input * self.w00 + self.b00\n",
    "        top_relu_output = F.relu(input_to_top_relu)\n",
    "        scaled_top_relu_output = top_relu_output * self.w01\n",
    "        \n",
    "        input_to_bot_relu = input * self.w10 + self.b10\n",
    "        bot_relu_output = F.relu(input_to_bot_relu)\n",
    "        scaled_bot_relu_output = bot_relu_output * self.w11\n",
    "        \n",
    "        \n",
    "        input_to_final_relu = scaled_top_relu_output + scaled_bot_relu_output + self.final_bias\n",
    "        \n",
    "        output = F.relu(input_to_final_relu)\n",
    "        \n",
    "        return output"
   ]
  },
  {
   "cell_type": "code",
   "execution_count": 14,
   "id": "ec3ed60e-60a8-488e-919c-b7c38df6ab27",
   "metadata": {},
   "outputs": [
    {
     "data": {
      "text/plain": [
       "<Axes: xlabel='None', ylabel='None'>"
      ]
     },
     "execution_count": 14,
     "metadata": {},
     "output_type": "execute_result"
    },
    {
     "data": {
      "image/png": "[encoded data removed]",
      "text/plain": [
       "<Figure size 640x480 with 1 Axes>"
      ]
     },
     "metadata": {},
     "output_type": "display_data"
    }
   ],
   "source": [
    "model = BasicLightning()\n",
    "\n",
    "output_values = model(input_doses)\n",
    "\n",
    "sns.set(style='whitegrid')\n",
    "sns.lineplot(x=input_doses, y=output_values, color='green', linewidth=2.5)"
   ]
  },
  {
   "cell_type": "code",
   "execution_count": 15,
   "id": "dd00ed2e-d627-4a8a-aa2e-64fa32214765",
   "metadata": {},
   "outputs": [],
   "source": [
    "class BasicLightningTrain(L.LightningModule):\n",
    "    def __init__(self):\n",
    "        super().__init__()\n",
    "        \n",
    "        self.w00 = nn.Parameter(torch.tensor(1.7), requires_grad=False)\n",
    "        self.b00 = nn.Parameter(torch.tensor(-0.85), requires_grad=False)\n",
    "        self.w01 = nn.Parameter(torch.tensor(-40.8), requires_grad=False)\n",
    "        \n",
    "        self.w10 = nn.Parameter(torch.tensor(12.6), requires_grad=False)\n",
    "        self.b10 = nn.Parameter(torch.tensor(0.0), requires_grad=False)\n",
    "        self.w11 = nn.Parameter(torch.tensor(2.7), requires_grad=False)\n",
    "        \n",
    "        self.final_bias = nn.Parameter(torch.tensor(0.0), requires_grad=True)\n",
    "\n",
    "        self.learning_rate = 0.01\n",
    "    \n",
    "    def forward(self, input):\n",
    "        input_to_top_relu = input * self.w00 + self.b00\n",
    "        top_relu_output = F.relu(input_to_top_relu)\n",
    "        scaled_top_relu_output = top_relu_output * self.w01\n",
    "        \n",
    "        input_to_bot_relu = input * self.w10 + self.b10\n",
    "        bot_relu_output = F.relu(input_to_bot_relu)\n",
    "        scaled_bot_relu_output = bot_relu_output * self.w11\n",
    "        \n",
    "        \n",
    "        input_to_final_relu = scaled_top_relu_output + scaled_bot_relu_output + self.final_bias\n",
    "        \n",
    "        output = F.relu(input_to_final_relu)\n",
    "        \n",
    "        return output\n",
    "\n",
    "    def configure_optimizers(self):\n",
    "        return SGD(self.parameters(), lr=self.learning_rate)\n",
    "\n",
    "    def training_step(self, batch, batch_idx):\n",
    "        input_i, label_i = batch\n",
    "        output_i = self.forward(input_i)\n",
    "        loss = (output_i - label_i)**2\n",
    "        \n",
    "        return loss"
   ]
  },
  {
   "cell_type": "code",
   "execution_count": 16,
   "id": "e7577214-038d-4bbc-b058-abc1adecd06d",
   "metadata": {},
   "outputs": [
    {
     "data": {
      "text/plain": [
       "<Axes: xlabel='None', ylabel='None'>"
      ]
     },
     "execution_count": 16,
     "metadata": {},
     "output_type": "execute_result"
    },
    {
     "data": {
      "image/png": "[encoded data removed]",
      "text/plain": [
       "<Figure size 640x480 with 1 Axes>"
      ]
     },
     "metadata": {},
     "output_type": "display_data"
    }
   ],
   "source": [
    "model = BasicLightningTrain()\n",
    "\n",
    "output_values = model(input_doses)\n",
    "\n",
    "sns.set(style='whitegrid')\n",
    "sns.lineplot(x=input_doses, y=output_values.detach(), color='green', linewidth=2.5)"
   ]
  },
  {
   "cell_type": "code",
   "execution_count": 17,
   "id": "e90c8ae1-7503-4c6f-9227-d174d87b7add",
   "metadata": {},
   "outputs": [],
   "source": [
    "inputs = torch.tensor([0., 0.5, 1.])\n",
    "labels = torch.tensor([0., 1., 0.])\n",
    "\n",
    "dataset = TensorDataset(inputs, labels)\n",
    "dataloader = DataLoader(dataset)"
   ]
  },
  {
   "cell_type": "code",
   "execution_count": 45,
   "id": "f4689b2a-bdda-45f7-bca4-0e8d4538725c",
   "metadata": {},
   "outputs": [
    {
     "name": "stderr",
     "output_type": "stream",
     "text": [
      "GPU available: False, used: False\n",
      "TPU available: False, using: 0 TPU cores\n",
      "HPU available: False, using: 0 HPUs\n"
     ]
    },
    {
     "data": {
      "application/vnd.jupyter.widget-view+json": {
       "model_id": "6dd3a6d76d9b4d1bbaef314585ec08f8",
       "version_major": 2,
       "version_minor": 0
      },
      "text/plain": [
       "Finding best initial lr:   0%|          | 0/100 [00:00<?, ?it/s]"
      ]
     },
     "metadata": {},
     "output_type": "display_data"
    },
    {
     "name": "stderr",
     "output_type": "stream",
     "text": [
      "`Trainer.fit` stopped: `max_steps=100` reached.\n",
      "Learning rate set to 0.002137962089502232\n",
      "Restoring states from the checkpoint path at C:\\Users\\suchi\\Projects\\nn-basics\\.lr_find_82d3dba3-7ec1-4c60-8e5e-3b4e8009fb0a.ckpt\n",
      "Restored all states from the checkpoint at C:\\Users\\suchi\\Projects\\nn-basics\\.lr_find_82d3dba3-7ec1-4c60-8e5e-3b4e8009fb0a.ckpt\n"
     ]
    }
   ],
   "source": [
    "model = BasicLightningTrain()\n",
    "trainer = L.Trainer(max_epochs=1_000)\n",
    "\n",
    "tuner = L.tuner.Tuner(trainer)\n",
    "\n",
    "lr_find_results = tuner.lr_find(model,\n",
    "                                train_dataloaders=dataloader,\n",
    "                                min_lr=0.001,\n",
    "                                max_lr=1.0,\n",
    "                                early_stop_threshold=None)\n",
    "\n",
    "new_lr = lr_find_results.suggestion()\n",
    "model.learning_rate = new_lr"
   ]
  },
  {
   "cell_type": "code",
   "execution_count": 47,
   "id": "51195da7-a0f2-41cd-be78-bda3077f0b78",
   "metadata": {},
   "outputs": [
    {
     "name": "stderr",
     "output_type": "stream",
     "text": [
      "\n",
      "  | Name         | Type | Params | Mode\n",
      "---------------------------------------------\n",
      "  | other params | n/a  | 7      | n/a \n",
      "---------------------------------------------\n",
      "1         Trainable params\n",
      "6         Non-trainable params\n",
      "7         Total params\n",
      "0.000     Total estimated model params size (MB)\n"
     ]
    },
    {
     "data": {
      "application/vnd.jupyter.widget-view+json": {
       "model_id": "d9b5ab5ef44e48b982078593042e72a3",
       "version_major": 2,
       "version_minor": 0
      },
      "text/plain": [
       "Training: |          | 0/? [00:00<?, ?it/s]"
      ]
     },
     "metadata": {},
     "output_type": "display_data"
    },
    {
     "name": "stderr",
     "output_type": "stream",
     "text": [
      "`Trainer.fit` stopped: `max_epochs=1000` reached.\n"
     ]
    }
   ],
   "source": [
    "trainer.fit(model, train_dataloaders=dataloader)"
   ]
  },
  {
   "cell_type": "code",
   "execution_count": 49,
   "id": "96fc13a8-cf4d-4738-9a88-2a81d97a706d",
   "metadata": {},
   "outputs": [
    {
     "name": "stdout",
     "output_type": "stream",
     "text": [
      "tensor(-15.7895)\n"
     ]
    }
   ],
   "source": [
    "print(model.final_bias.data)"
   ]
  },
  {
   "cell_type": "code",
   "execution_count": null,
   "id": "be284a76-45f3-451a-a6f0-46bd5200de04",
   "metadata": {},
   "outputs": [],
   "source": []
  }
 ],
 "metadata": {
  "kernelspec": {
   "display_name": "Python 3 (ipykernel)",
   "language": "python",
   "name": "python3"
  },
  "language_info": {
   "codemirror_mode": {
    "name": "ipython",
    "version": 3
   },
   "file_extension": ".py",
   "mimetype": "text/x-python",
   "name": "python",
   "nbconvert_exporter": "python",
   "pygments_lexer": "ipython3",
   "version": "3.12.4"
  }
 },
 "nbformat": 4,
 "nbformat_minor": 5
}
